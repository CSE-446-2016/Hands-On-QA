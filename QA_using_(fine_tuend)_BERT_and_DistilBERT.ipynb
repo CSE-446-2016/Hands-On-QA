{
  "nbformat": 4,
  "nbformat_minor": 0,
  "metadata": {
    "colab": {
      "name": "QA using (fine-tuend) BERT and DistilBERT.ipynb",
      "provenance": [],
      "collapsed_sections": []
    },
    "kernelspec": {
      "name": "python3",
      "display_name": "Python 3"
    },
    "language_info": {
      "name": "python"
    },
    "widgets": {
      "application/vnd.jupyter.widget-state+json": {
        "c980d5b3d03c4fdf93e6e30905b41db6": {
          "model_module": "@jupyter-widgets/controls",
          "model_name": "HBoxModel",
          "state": {
            "_view_name": "HBoxView",
            "_dom_classes": [],
            "_model_name": "HBoxModel",
            "_view_module": "@jupyter-widgets/controls",
            "_model_module_version": "1.5.0",
            "_view_count": null,
            "_view_module_version": "1.5.0",
            "box_style": "",
            "layout": "IPY_MODEL_30e2fb2bd0954aab9b0578c9c84c1a56",
            "_model_module": "@jupyter-widgets/controls",
            "children": [
              "IPY_MODEL_d95db861c5ac4e2dba355627c9f6b40f",
              "IPY_MODEL_12a20f7609ab408db056f7cc8e948896"
            ]
          }
        },
        "30e2fb2bd0954aab9b0578c9c84c1a56": {
          "model_module": "@jupyter-widgets/base",
          "model_name": "LayoutModel",
          "state": {
            "_view_name": "LayoutView",
            "grid_template_rows": null,
            "right": null,
            "justify_content": null,
            "_view_module": "@jupyter-widgets/base",
            "overflow": null,
            "_model_module_version": "1.2.0",
            "_view_count": null,
            "flex_flow": null,
            "width": null,
            "min_width": null,
            "border": null,
            "align_items": null,
            "bottom": null,
            "_model_module": "@jupyter-widgets/base",
            "top": null,
            "grid_column": null,
            "overflow_y": null,
            "overflow_x": null,
            "grid_auto_flow": null,
            "grid_area": null,
            "grid_template_columns": null,
            "flex": null,
            "_model_name": "LayoutModel",
            "justify_items": null,
            "grid_row": null,
            "max_height": null,
            "align_content": null,
            "visibility": null,
            "align_self": null,
            "height": null,
            "min_height": null,
            "padding": null,
            "grid_auto_rows": null,
            "grid_gap": null,
            "max_width": null,
            "order": null,
            "_view_module_version": "1.2.0",
            "grid_template_areas": null,
            "object_position": null,
            "object_fit": null,
            "grid_auto_columns": null,
            "margin": null,
            "display": null,
            "left": null
          }
        },
        "d95db861c5ac4e2dba355627c9f6b40f": {
          "model_module": "@jupyter-widgets/controls",
          "model_name": "FloatProgressModel",
          "state": {
            "_view_name": "ProgressView",
            "style": "IPY_MODEL_56fa95a1d27a4cfd8fa017c88bdaa13b",
            "_dom_classes": [],
            "description": "Downloading: 100%",
            "_model_name": "FloatProgressModel",
            "bar_style": "success",
            "max": 443,
            "_view_module": "@jupyter-widgets/controls",
            "_model_module_version": "1.5.0",
            "value": 443,
            "_view_count": null,
            "_view_module_version": "1.5.0",
            "orientation": "horizontal",
            "min": 0,
            "description_tooltip": null,
            "_model_module": "@jupyter-widgets/controls",
            "layout": "IPY_MODEL_b38cf5319e2d43eba9ce0922f57ea666"
          }
        },
        "12a20f7609ab408db056f7cc8e948896": {
          "model_module": "@jupyter-widgets/controls",
          "model_name": "HTMLModel",
          "state": {
            "_view_name": "HTMLView",
            "style": "IPY_MODEL_8133b477b4314adbaade1e07efe5e590",
            "_dom_classes": [],
            "description": "",
            "_model_name": "HTMLModel",
            "placeholder": "​",
            "_view_module": "@jupyter-widgets/controls",
            "_model_module_version": "1.5.0",
            "value": " 443/443 [00:48&lt;00:00, 9.21B/s]",
            "_view_count": null,
            "_view_module_version": "1.5.0",
            "description_tooltip": null,
            "_model_module": "@jupyter-widgets/controls",
            "layout": "IPY_MODEL_98cf0df5002d41b7a828244abc404ad0"
          }
        },
        "56fa95a1d27a4cfd8fa017c88bdaa13b": {
          "model_module": "@jupyter-widgets/controls",
          "model_name": "ProgressStyleModel",
          "state": {
            "_view_name": "StyleView",
            "_model_name": "ProgressStyleModel",
            "description_width": "initial",
            "_view_module": "@jupyter-widgets/base",
            "_model_module_version": "1.5.0",
            "_view_count": null,
            "_view_module_version": "1.2.0",
            "bar_color": null,
            "_model_module": "@jupyter-widgets/controls"
          }
        },
        "b38cf5319e2d43eba9ce0922f57ea666": {
          "model_module": "@jupyter-widgets/base",
          "model_name": "LayoutModel",
          "state": {
            "_view_name": "LayoutView",
            "grid_template_rows": null,
            "right": null,
            "justify_content": null,
            "_view_module": "@jupyter-widgets/base",
            "overflow": null,
            "_model_module_version": "1.2.0",
            "_view_count": null,
            "flex_flow": null,
            "width": null,
            "min_width": null,
            "border": null,
            "align_items": null,
            "bottom": null,
            "_model_module": "@jupyter-widgets/base",
            "top": null,
            "grid_column": null,
            "overflow_y": null,
            "overflow_x": null,
            "grid_auto_flow": null,
            "grid_area": null,
            "grid_template_columns": null,
            "flex": null,
            "_model_name": "LayoutModel",
            "justify_items": null,
            "grid_row": null,
            "max_height": null,
            "align_content": null,
            "visibility": null,
            "align_self": null,
            "height": null,
            "min_height": null,
            "padding": null,
            "grid_auto_rows": null,
            "grid_gap": null,
            "max_width": null,
            "order": null,
            "_view_module_version": "1.2.0",
            "grid_template_areas": null,
            "object_position": null,
            "object_fit": null,
            "grid_auto_columns": null,
            "margin": null,
            "display": null,
            "left": null
          }
        },
        "8133b477b4314adbaade1e07efe5e590": {
          "model_module": "@jupyter-widgets/controls",
          "model_name": "DescriptionStyleModel",
          "state": {
            "_view_name": "StyleView",
            "_model_name": "DescriptionStyleModel",
            "description_width": "",
            "_view_module": "@jupyter-widgets/base",
            "_model_module_version": "1.5.0",
            "_view_count": null,
            "_view_module_version": "1.2.0",
            "_model_module": "@jupyter-widgets/controls"
          }
        },
        "98cf0df5002d41b7a828244abc404ad0": {
          "model_module": "@jupyter-widgets/base",
          "model_name": "LayoutModel",
          "state": {
            "_view_name": "LayoutView",
            "grid_template_rows": null,
            "right": null,
            "justify_content": null,
            "_view_module": "@jupyter-widgets/base",
            "overflow": null,
            "_model_module_version": "1.2.0",
            "_view_count": null,
            "flex_flow": null,
            "width": null,
            "min_width": null,
            "border": null,
            "align_items": null,
            "bottom": null,
            "_model_module": "@jupyter-widgets/base",
            "top": null,
            "grid_column": null,
            "overflow_y": null,
            "overflow_x": null,
            "grid_auto_flow": null,
            "grid_area": null,
            "grid_template_columns": null,
            "flex": null,
            "_model_name": "LayoutModel",
            "justify_items": null,
            "grid_row": null,
            "max_height": null,
            "align_content": null,
            "visibility": null,
            "align_self": null,
            "height": null,
            "min_height": null,
            "padding": null,
            "grid_auto_rows": null,
            "grid_gap": null,
            "max_width": null,
            "order": null,
            "_view_module_version": "1.2.0",
            "grid_template_areas": null,
            "object_position": null,
            "object_fit": null,
            "grid_auto_columns": null,
            "margin": null,
            "display": null,
            "left": null
          }
        },
        "042ee920718541f38d7195fc5de5ecfa": {
          "model_module": "@jupyter-widgets/controls",
          "model_name": "HBoxModel",
          "state": {
            "_view_name": "HBoxView",
            "_dom_classes": [],
            "_model_name": "HBoxModel",
            "_view_module": "@jupyter-widgets/controls",
            "_model_module_version": "1.5.0",
            "_view_count": null,
            "_view_module_version": "1.5.0",
            "box_style": "",
            "layout": "IPY_MODEL_add1f79214b948a99b7ed8d0d51e65c8",
            "_model_module": "@jupyter-widgets/controls",
            "children": [
              "IPY_MODEL_8594d44852014e04abd11f4402691213",
              "IPY_MODEL_fb0c7ef49f184c8c9167d609f87dd00f"
            ]
          }
        },
        "add1f79214b948a99b7ed8d0d51e65c8": {
          "model_module": "@jupyter-widgets/base",
          "model_name": "LayoutModel",
          "state": {
            "_view_name": "LayoutView",
            "grid_template_rows": null,
            "right": null,
            "justify_content": null,
            "_view_module": "@jupyter-widgets/base",
            "overflow": null,
            "_model_module_version": "1.2.0",
            "_view_count": null,
            "flex_flow": null,
            "width": null,
            "min_width": null,
            "border": null,
            "align_items": null,
            "bottom": null,
            "_model_module": "@jupyter-widgets/base",
            "top": null,
            "grid_column": null,
            "overflow_y": null,
            "overflow_x": null,
            "grid_auto_flow": null,
            "grid_area": null,
            "grid_template_columns": null,
            "flex": null,
            "_model_name": "LayoutModel",
            "justify_items": null,
            "grid_row": null,
            "max_height": null,
            "align_content": null,
            "visibility": null,
            "align_self": null,
            "height": null,
            "min_height": null,
            "padding": null,
            "grid_auto_rows": null,
            "grid_gap": null,
            "max_width": null,
            "order": null,
            "_view_module_version": "1.2.0",
            "grid_template_areas": null,
            "object_position": null,
            "object_fit": null,
            "grid_auto_columns": null,
            "margin": null,
            "display": null,
            "left": null
          }
        },
        "8594d44852014e04abd11f4402691213": {
          "model_module": "@jupyter-widgets/controls",
          "model_name": "FloatProgressModel",
          "state": {
            "_view_name": "ProgressView",
            "style": "IPY_MODEL_09df9a06f2a84df4bb25b866c651b897",
            "_dom_classes": [],
            "description": "Downloading: 100%",
            "_model_name": "FloatProgressModel",
            "bar_style": "success",
            "max": 1340675298,
            "_view_module": "@jupyter-widgets/controls",
            "_model_module_version": "1.5.0",
            "value": 1340675298,
            "_view_count": null,
            "_view_module_version": "1.5.0",
            "orientation": "horizontal",
            "min": 0,
            "description_tooltip": null,
            "_model_module": "@jupyter-widgets/controls",
            "layout": "IPY_MODEL_4ee331a340334bc89b84d04b02a85044"
          }
        },
        "fb0c7ef49f184c8c9167d609f87dd00f": {
          "model_module": "@jupyter-widgets/controls",
          "model_name": "HTMLModel",
          "state": {
            "_view_name": "HTMLView",
            "style": "IPY_MODEL_2aaaf7a1ab5947899d5f25b43c5e4ffa",
            "_dom_classes": [],
            "description": "",
            "_model_name": "HTMLModel",
            "placeholder": "​",
            "_view_module": "@jupyter-widgets/controls",
            "_model_module_version": "1.5.0",
            "value": " 1.34G/1.34G [00:47&lt;00:00, 28.1MB/s]",
            "_view_count": null,
            "_view_module_version": "1.5.0",
            "description_tooltip": null,
            "_model_module": "@jupyter-widgets/controls",
            "layout": "IPY_MODEL_793793e8226145c9893c40270d732a85"
          }
        },
        "09df9a06f2a84df4bb25b866c651b897": {
          "model_module": "@jupyter-widgets/controls",
          "model_name": "ProgressStyleModel",
          "state": {
            "_view_name": "StyleView",
            "_model_name": "ProgressStyleModel",
            "description_width": "initial",
            "_view_module": "@jupyter-widgets/base",
            "_model_module_version": "1.5.0",
            "_view_count": null,
            "_view_module_version": "1.2.0",
            "bar_color": null,
            "_model_module": "@jupyter-widgets/controls"
          }
        },
        "4ee331a340334bc89b84d04b02a85044": {
          "model_module": "@jupyter-widgets/base",
          "model_name": "LayoutModel",
          "state": {
            "_view_name": "LayoutView",
            "grid_template_rows": null,
            "right": null,
            "justify_content": null,
            "_view_module": "@jupyter-widgets/base",
            "overflow": null,
            "_model_module_version": "1.2.0",
            "_view_count": null,
            "flex_flow": null,
            "width": null,
            "min_width": null,
            "border": null,
            "align_items": null,
            "bottom": null,
            "_model_module": "@jupyter-widgets/base",
            "top": null,
            "grid_column": null,
            "overflow_y": null,
            "overflow_x": null,
            "grid_auto_flow": null,
            "grid_area": null,
            "grid_template_columns": null,
            "flex": null,
            "_model_name": "LayoutModel",
            "justify_items": null,
            "grid_row": null,
            "max_height": null,
            "align_content": null,
            "visibility": null,
            "align_self": null,
            "height": null,
            "min_height": null,
            "padding": null,
            "grid_auto_rows": null,
            "grid_gap": null,
            "max_width": null,
            "order": null,
            "_view_module_version": "1.2.0",
            "grid_template_areas": null,
            "object_position": null,
            "object_fit": null,
            "grid_auto_columns": null,
            "margin": null,
            "display": null,
            "left": null
          }
        },
        "2aaaf7a1ab5947899d5f25b43c5e4ffa": {
          "model_module": "@jupyter-widgets/controls",
          "model_name": "DescriptionStyleModel",
          "state": {
            "_view_name": "StyleView",
            "_model_name": "DescriptionStyleModel",
            "description_width": "",
            "_view_module": "@jupyter-widgets/base",
            "_model_module_version": "1.5.0",
            "_view_count": null,
            "_view_module_version": "1.2.0",
            "_model_module": "@jupyter-widgets/controls"
          }
        },
        "793793e8226145c9893c40270d732a85": {
          "model_module": "@jupyter-widgets/base",
          "model_name": "LayoutModel",
          "state": {
            "_view_name": "LayoutView",
            "grid_template_rows": null,
            "right": null,
            "justify_content": null,
            "_view_module": "@jupyter-widgets/base",
            "overflow": null,
            "_model_module_version": "1.2.0",
            "_view_count": null,
            "flex_flow": null,
            "width": null,
            "min_width": null,
            "border": null,
            "align_items": null,
            "bottom": null,
            "_model_module": "@jupyter-widgets/base",
            "top": null,
            "grid_column": null,
            "overflow_y": null,
            "overflow_x": null,
            "grid_auto_flow": null,
            "grid_area": null,
            "grid_template_columns": null,
            "flex": null,
            "_model_name": "LayoutModel",
            "justify_items": null,
            "grid_row": null,
            "max_height": null,
            "align_content": null,
            "visibility": null,
            "align_self": null,
            "height": null,
            "min_height": null,
            "padding": null,
            "grid_auto_rows": null,
            "grid_gap": null,
            "max_width": null,
            "order": null,
            "_view_module_version": "1.2.0",
            "grid_template_areas": null,
            "object_position": null,
            "object_fit": null,
            "grid_auto_columns": null,
            "margin": null,
            "display": null,
            "left": null
          }
        },
        "52f10c0e9d6f4f8fb924e0b1305b9a0a": {
          "model_module": "@jupyter-widgets/controls",
          "model_name": "HBoxModel",
          "state": {
            "_view_name": "HBoxView",
            "_dom_classes": [],
            "_model_name": "HBoxModel",
            "_view_module": "@jupyter-widgets/controls",
            "_model_module_version": "1.5.0",
            "_view_count": null,
            "_view_module_version": "1.5.0",
            "box_style": "",
            "layout": "IPY_MODEL_addbce07a934437dac12199099aefd7c",
            "_model_module": "@jupyter-widgets/controls",
            "children": [
              "IPY_MODEL_bfc0f74bfdc042cf96a4c8b84711b0f5",
              "IPY_MODEL_7de7bfb718e441829c3079f311d4ea81"
            ]
          }
        },
        "addbce07a934437dac12199099aefd7c": {
          "model_module": "@jupyter-widgets/base",
          "model_name": "LayoutModel",
          "state": {
            "_view_name": "LayoutView",
            "grid_template_rows": null,
            "right": null,
            "justify_content": null,
            "_view_module": "@jupyter-widgets/base",
            "overflow": null,
            "_model_module_version": "1.2.0",
            "_view_count": null,
            "flex_flow": null,
            "width": null,
            "min_width": null,
            "border": null,
            "align_items": null,
            "bottom": null,
            "_model_module": "@jupyter-widgets/base",
            "top": null,
            "grid_column": null,
            "overflow_y": null,
            "overflow_x": null,
            "grid_auto_flow": null,
            "grid_area": null,
            "grid_template_columns": null,
            "flex": null,
            "_model_name": "LayoutModel",
            "justify_items": null,
            "grid_row": null,
            "max_height": null,
            "align_content": null,
            "visibility": null,
            "align_self": null,
            "height": null,
            "min_height": null,
            "padding": null,
            "grid_auto_rows": null,
            "grid_gap": null,
            "max_width": null,
            "order": null,
            "_view_module_version": "1.2.0",
            "grid_template_areas": null,
            "object_position": null,
            "object_fit": null,
            "grid_auto_columns": null,
            "margin": null,
            "display": null,
            "left": null
          }
        },
        "bfc0f74bfdc042cf96a4c8b84711b0f5": {
          "model_module": "@jupyter-widgets/controls",
          "model_name": "FloatProgressModel",
          "state": {
            "_view_name": "ProgressView",
            "style": "IPY_MODEL_50cf24da7777497cb76596ffd1ddce1b",
            "_dom_classes": [],
            "description": "Downloading: 100%",
            "_model_name": "FloatProgressModel",
            "bar_style": "success",
            "max": 231508,
            "_view_module": "@jupyter-widgets/controls",
            "_model_module_version": "1.5.0",
            "value": 231508,
            "_view_count": null,
            "_view_module_version": "1.5.0",
            "orientation": "horizontal",
            "min": 0,
            "description_tooltip": null,
            "_model_module": "@jupyter-widgets/controls",
            "layout": "IPY_MODEL_486903a294734ed687bcbde2268d87c1"
          }
        },
        "7de7bfb718e441829c3079f311d4ea81": {
          "model_module": "@jupyter-widgets/controls",
          "model_name": "HTMLModel",
          "state": {
            "_view_name": "HTMLView",
            "style": "IPY_MODEL_72cfb8bcb9b9427584460748c006ae95",
            "_dom_classes": [],
            "description": "",
            "_model_name": "HTMLModel",
            "placeholder": "​",
            "_view_module": "@jupyter-widgets/controls",
            "_model_module_version": "1.5.0",
            "value": " 232k/232k [00:02&lt;00:00, 94.8kB/s]",
            "_view_count": null,
            "_view_module_version": "1.5.0",
            "description_tooltip": null,
            "_model_module": "@jupyter-widgets/controls",
            "layout": "IPY_MODEL_6c24c747140c406abaa1e7e74f6494de"
          }
        },
        "50cf24da7777497cb76596ffd1ddce1b": {
          "model_module": "@jupyter-widgets/controls",
          "model_name": "ProgressStyleModel",
          "state": {
            "_view_name": "StyleView",
            "_model_name": "ProgressStyleModel",
            "description_width": "initial",
            "_view_module": "@jupyter-widgets/base",
            "_model_module_version": "1.5.0",
            "_view_count": null,
            "_view_module_version": "1.2.0",
            "bar_color": null,
            "_model_module": "@jupyter-widgets/controls"
          }
        },
        "486903a294734ed687bcbde2268d87c1": {
          "model_module": "@jupyter-widgets/base",
          "model_name": "LayoutModel",
          "state": {
            "_view_name": "LayoutView",
            "grid_template_rows": null,
            "right": null,
            "justify_content": null,
            "_view_module": "@jupyter-widgets/base",
            "overflow": null,
            "_model_module_version": "1.2.0",
            "_view_count": null,
            "flex_flow": null,
            "width": null,
            "min_width": null,
            "border": null,
            "align_items": null,
            "bottom": null,
            "_model_module": "@jupyter-widgets/base",
            "top": null,
            "grid_column": null,
            "overflow_y": null,
            "overflow_x": null,
            "grid_auto_flow": null,
            "grid_area": null,
            "grid_template_columns": null,
            "flex": null,
            "_model_name": "LayoutModel",
            "justify_items": null,
            "grid_row": null,
            "max_height": null,
            "align_content": null,
            "visibility": null,
            "align_self": null,
            "height": null,
            "min_height": null,
            "padding": null,
            "grid_auto_rows": null,
            "grid_gap": null,
            "max_width": null,
            "order": null,
            "_view_module_version": "1.2.0",
            "grid_template_areas": null,
            "object_position": null,
            "object_fit": null,
            "grid_auto_columns": null,
            "margin": null,
            "display": null,
            "left": null
          }
        },
        "72cfb8bcb9b9427584460748c006ae95": {
          "model_module": "@jupyter-widgets/controls",
          "model_name": "DescriptionStyleModel",
          "state": {
            "_view_name": "StyleView",
            "_model_name": "DescriptionStyleModel",
            "description_width": "",
            "_view_module": "@jupyter-widgets/base",
            "_model_module_version": "1.5.0",
            "_view_count": null,
            "_view_module_version": "1.2.0",
            "_model_module": "@jupyter-widgets/controls"
          }
        },
        "6c24c747140c406abaa1e7e74f6494de": {
          "model_module": "@jupyter-widgets/base",
          "model_name": "LayoutModel",
          "state": {
            "_view_name": "LayoutView",
            "grid_template_rows": null,
            "right": null,
            "justify_content": null,
            "_view_module": "@jupyter-widgets/base",
            "overflow": null,
            "_model_module_version": "1.2.0",
            "_view_count": null,
            "flex_flow": null,
            "width": null,
            "min_width": null,
            "border": null,
            "align_items": null,
            "bottom": null,
            "_model_module": "@jupyter-widgets/base",
            "top": null,
            "grid_column": null,
            "overflow_y": null,
            "overflow_x": null,
            "grid_auto_flow": null,
            "grid_area": null,
            "grid_template_columns": null,
            "flex": null,
            "_model_name": "LayoutModel",
            "justify_items": null,
            "grid_row": null,
            "max_height": null,
            "align_content": null,
            "visibility": null,
            "align_self": null,
            "height": null,
            "min_height": null,
            "padding": null,
            "grid_auto_rows": null,
            "grid_gap": null,
            "max_width": null,
            "order": null,
            "_view_module_version": "1.2.0",
            "grid_template_areas": null,
            "object_position": null,
            "object_fit": null,
            "grid_auto_columns": null,
            "margin": null,
            "display": null,
            "left": null
          }
        },
        "d445d7e314ef4933910161569d975947": {
          "model_module": "@jupyter-widgets/controls",
          "model_name": "HBoxModel",
          "state": {
            "_view_name": "HBoxView",
            "_dom_classes": [],
            "_model_name": "HBoxModel",
            "_view_module": "@jupyter-widgets/controls",
            "_model_module_version": "1.5.0",
            "_view_count": null,
            "_view_module_version": "1.5.0",
            "box_style": "",
            "layout": "IPY_MODEL_4e493d0cf509425db95e6a9380bee831",
            "_model_module": "@jupyter-widgets/controls",
            "children": [
              "IPY_MODEL_036cbab7608f4c5783f41e159f881db4",
              "IPY_MODEL_8e6a4e5f74614fd3a7f9a5d8e7ff50b0"
            ]
          }
        },
        "4e493d0cf509425db95e6a9380bee831": {
          "model_module": "@jupyter-widgets/base",
          "model_name": "LayoutModel",
          "state": {
            "_view_name": "LayoutView",
            "grid_template_rows": null,
            "right": null,
            "justify_content": null,
            "_view_module": "@jupyter-widgets/base",
            "overflow": null,
            "_model_module_version": "1.2.0",
            "_view_count": null,
            "flex_flow": null,
            "width": null,
            "min_width": null,
            "border": null,
            "align_items": null,
            "bottom": null,
            "_model_module": "@jupyter-widgets/base",
            "top": null,
            "grid_column": null,
            "overflow_y": null,
            "overflow_x": null,
            "grid_auto_flow": null,
            "grid_area": null,
            "grid_template_columns": null,
            "flex": null,
            "_model_name": "LayoutModel",
            "justify_items": null,
            "grid_row": null,
            "max_height": null,
            "align_content": null,
            "visibility": null,
            "align_self": null,
            "height": null,
            "min_height": null,
            "padding": null,
            "grid_auto_rows": null,
            "grid_gap": null,
            "max_width": null,
            "order": null,
            "_view_module_version": "1.2.0",
            "grid_template_areas": null,
            "object_position": null,
            "object_fit": null,
            "grid_auto_columns": null,
            "margin": null,
            "display": null,
            "left": null
          }
        },
        "036cbab7608f4c5783f41e159f881db4": {
          "model_module": "@jupyter-widgets/controls",
          "model_name": "FloatProgressModel",
          "state": {
            "_view_name": "ProgressView",
            "style": "IPY_MODEL_ba87ea1bc3cd4d1e8e4ca2935447cd37",
            "_dom_classes": [],
            "description": "Downloading: 100%",
            "_model_name": "FloatProgressModel",
            "bar_style": "success",
            "max": 28,
            "_view_module": "@jupyter-widgets/controls",
            "_model_module_version": "1.5.0",
            "value": 28,
            "_view_count": null,
            "_view_module_version": "1.5.0",
            "orientation": "horizontal",
            "min": 0,
            "description_tooltip": null,
            "_model_module": "@jupyter-widgets/controls",
            "layout": "IPY_MODEL_1f07d363d94141a9ab8ade60df66f6cb"
          }
        },
        "8e6a4e5f74614fd3a7f9a5d8e7ff50b0": {
          "model_module": "@jupyter-widgets/controls",
          "model_name": "HTMLModel",
          "state": {
            "_view_name": "HTMLView",
            "style": "IPY_MODEL_16979ec9fe3c46ceae8e7375ae2bb219",
            "_dom_classes": [],
            "description": "",
            "_model_name": "HTMLModel",
            "placeholder": "​",
            "_view_module": "@jupyter-widgets/controls",
            "_model_module_version": "1.5.0",
            "value": " 28.0/28.0 [00:01&lt;00:00, 26.9B/s]",
            "_view_count": null,
            "_view_module_version": "1.5.0",
            "description_tooltip": null,
            "_model_module": "@jupyter-widgets/controls",
            "layout": "IPY_MODEL_f7cf46380c2f426e9ac78dcdc2daaf5a"
          }
        },
        "ba87ea1bc3cd4d1e8e4ca2935447cd37": {
          "model_module": "@jupyter-widgets/controls",
          "model_name": "ProgressStyleModel",
          "state": {
            "_view_name": "StyleView",
            "_model_name": "ProgressStyleModel",
            "description_width": "initial",
            "_view_module": "@jupyter-widgets/base",
            "_model_module_version": "1.5.0",
            "_view_count": null,
            "_view_module_version": "1.2.0",
            "bar_color": null,
            "_model_module": "@jupyter-widgets/controls"
          }
        },
        "1f07d363d94141a9ab8ade60df66f6cb": {
          "model_module": "@jupyter-widgets/base",
          "model_name": "LayoutModel",
          "state": {
            "_view_name": "LayoutView",
            "grid_template_rows": null,
            "right": null,
            "justify_content": null,
            "_view_module": "@jupyter-widgets/base",
            "overflow": null,
            "_model_module_version": "1.2.0",
            "_view_count": null,
            "flex_flow": null,
            "width": null,
            "min_width": null,
            "border": null,
            "align_items": null,
            "bottom": null,
            "_model_module": "@jupyter-widgets/base",
            "top": null,
            "grid_column": null,
            "overflow_y": null,
            "overflow_x": null,
            "grid_auto_flow": null,
            "grid_area": null,
            "grid_template_columns": null,
            "flex": null,
            "_model_name": "LayoutModel",
            "justify_items": null,
            "grid_row": null,
            "max_height": null,
            "align_content": null,
            "visibility": null,
            "align_self": null,
            "height": null,
            "min_height": null,
            "padding": null,
            "grid_auto_rows": null,
            "grid_gap": null,
            "max_width": null,
            "order": null,
            "_view_module_version": "1.2.0",
            "grid_template_areas": null,
            "object_position": null,
            "object_fit": null,
            "grid_auto_columns": null,
            "margin": null,
            "display": null,
            "left": null
          }
        },
        "16979ec9fe3c46ceae8e7375ae2bb219": {
          "model_module": "@jupyter-widgets/controls",
          "model_name": "DescriptionStyleModel",
          "state": {
            "_view_name": "StyleView",
            "_model_name": "DescriptionStyleModel",
            "description_width": "",
            "_view_module": "@jupyter-widgets/base",
            "_model_module_version": "1.5.0",
            "_view_count": null,
            "_view_module_version": "1.2.0",
            "_model_module": "@jupyter-widgets/controls"
          }
        },
        "f7cf46380c2f426e9ac78dcdc2daaf5a": {
          "model_module": "@jupyter-widgets/base",
          "model_name": "LayoutModel",
          "state": {
            "_view_name": "LayoutView",
            "grid_template_rows": null,
            "right": null,
            "justify_content": null,
            "_view_module": "@jupyter-widgets/base",
            "overflow": null,
            "_model_module_version": "1.2.0",
            "_view_count": null,
            "flex_flow": null,
            "width": null,
            "min_width": null,
            "border": null,
            "align_items": null,
            "bottom": null,
            "_model_module": "@jupyter-widgets/base",
            "top": null,
            "grid_column": null,
            "overflow_y": null,
            "overflow_x": null,
            "grid_auto_flow": null,
            "grid_area": null,
            "grid_template_columns": null,
            "flex": null,
            "_model_name": "LayoutModel",
            "justify_items": null,
            "grid_row": null,
            "max_height": null,
            "align_content": null,
            "visibility": null,
            "align_self": null,
            "height": null,
            "min_height": null,
            "padding": null,
            "grid_auto_rows": null,
            "grid_gap": null,
            "max_width": null,
            "order": null,
            "_view_module_version": "1.2.0",
            "grid_template_areas": null,
            "object_position": null,
            "object_fit": null,
            "grid_auto_columns": null,
            "margin": null,
            "display": null,
            "left": null
          }
        },
        "36dab71e4ea84bca8b42f3a93e6886d1": {
          "model_module": "@jupyter-widgets/controls",
          "model_name": "HBoxModel",
          "state": {
            "_view_name": "HBoxView",
            "_dom_classes": [],
            "_model_name": "HBoxModel",
            "_view_module": "@jupyter-widgets/controls",
            "_model_module_version": "1.5.0",
            "_view_count": null,
            "_view_module_version": "1.5.0",
            "box_style": "",
            "layout": "IPY_MODEL_4601ff2cebc3464c802909d58f7e479b",
            "_model_module": "@jupyter-widgets/controls",
            "children": [
              "IPY_MODEL_804940afd4ef4bd5a8f14035e8694a34",
              "IPY_MODEL_01d7031e8d9c461e841ebfe916eeaa41"
            ]
          }
        },
        "4601ff2cebc3464c802909d58f7e479b": {
          "model_module": "@jupyter-widgets/base",
          "model_name": "LayoutModel",
          "state": {
            "_view_name": "LayoutView",
            "grid_template_rows": null,
            "right": null,
            "justify_content": null,
            "_view_module": "@jupyter-widgets/base",
            "overflow": null,
            "_model_module_version": "1.2.0",
            "_view_count": null,
            "flex_flow": null,
            "width": null,
            "min_width": null,
            "border": null,
            "align_items": null,
            "bottom": null,
            "_model_module": "@jupyter-widgets/base",
            "top": null,
            "grid_column": null,
            "overflow_y": null,
            "overflow_x": null,
            "grid_auto_flow": null,
            "grid_area": null,
            "grid_template_columns": null,
            "flex": null,
            "_model_name": "LayoutModel",
            "justify_items": null,
            "grid_row": null,
            "max_height": null,
            "align_content": null,
            "visibility": null,
            "align_self": null,
            "height": null,
            "min_height": null,
            "padding": null,
            "grid_auto_rows": null,
            "grid_gap": null,
            "max_width": null,
            "order": null,
            "_view_module_version": "1.2.0",
            "grid_template_areas": null,
            "object_position": null,
            "object_fit": null,
            "grid_auto_columns": null,
            "margin": null,
            "display": null,
            "left": null
          }
        },
        "804940afd4ef4bd5a8f14035e8694a34": {
          "model_module": "@jupyter-widgets/controls",
          "model_name": "FloatProgressModel",
          "state": {
            "_view_name": "ProgressView",
            "style": "IPY_MODEL_c73ababba6f04846a719a63f78d27a01",
            "_dom_classes": [],
            "description": "Downloading: 100%",
            "_model_name": "FloatProgressModel",
            "bar_style": "success",
            "max": 466062,
            "_view_module": "@jupyter-widgets/controls",
            "_model_module_version": "1.5.0",
            "value": 466062,
            "_view_count": null,
            "_view_module_version": "1.5.0",
            "orientation": "horizontal",
            "min": 0,
            "description_tooltip": null,
            "_model_module": "@jupyter-widgets/controls",
            "layout": "IPY_MODEL_9f19388114b849159fba20c7fed67d1a"
          }
        },
        "01d7031e8d9c461e841ebfe916eeaa41": {
          "model_module": "@jupyter-widgets/controls",
          "model_name": "HTMLModel",
          "state": {
            "_view_name": "HTMLView",
            "style": "IPY_MODEL_71292a0a21514d3d924c064f39e9678c",
            "_dom_classes": [],
            "description": "",
            "_model_name": "HTMLModel",
            "placeholder": "​",
            "_view_module": "@jupyter-widgets/controls",
            "_model_module_version": "1.5.0",
            "value": " 466k/466k [00:00&lt;00:00, 1.05MB/s]",
            "_view_count": null,
            "_view_module_version": "1.5.0",
            "description_tooltip": null,
            "_model_module": "@jupyter-widgets/controls",
            "layout": "IPY_MODEL_0ef91931b04642758404b376fd1d5734"
          }
        },
        "c73ababba6f04846a719a63f78d27a01": {
          "model_module": "@jupyter-widgets/controls",
          "model_name": "ProgressStyleModel",
          "state": {
            "_view_name": "StyleView",
            "_model_name": "ProgressStyleModel",
            "description_width": "initial",
            "_view_module": "@jupyter-widgets/base",
            "_model_module_version": "1.5.0",
            "_view_count": null,
            "_view_module_version": "1.2.0",
            "bar_color": null,
            "_model_module": "@jupyter-widgets/controls"
          }
        },
        "9f19388114b849159fba20c7fed67d1a": {
          "model_module": "@jupyter-widgets/base",
          "model_name": "LayoutModel",
          "state": {
            "_view_name": "LayoutView",
            "grid_template_rows": null,
            "right": null,
            "justify_content": null,
            "_view_module": "@jupyter-widgets/base",
            "overflow": null,
            "_model_module_version": "1.2.0",
            "_view_count": null,
            "flex_flow": null,
            "width": null,
            "min_width": null,
            "border": null,
            "align_items": null,
            "bottom": null,
            "_model_module": "@jupyter-widgets/base",
            "top": null,
            "grid_column": null,
            "overflow_y": null,
            "overflow_x": null,
            "grid_auto_flow": null,
            "grid_area": null,
            "grid_template_columns": null,
            "flex": null,
            "_model_name": "LayoutModel",
            "justify_items": null,
            "grid_row": null,
            "max_height": null,
            "align_content": null,
            "visibility": null,
            "align_self": null,
            "height": null,
            "min_height": null,
            "padding": null,
            "grid_auto_rows": null,
            "grid_gap": null,
            "max_width": null,
            "order": null,
            "_view_module_version": "1.2.0",
            "grid_template_areas": null,
            "object_position": null,
            "object_fit": null,
            "grid_auto_columns": null,
            "margin": null,
            "display": null,
            "left": null
          }
        },
        "71292a0a21514d3d924c064f39e9678c": {
          "model_module": "@jupyter-widgets/controls",
          "model_name": "DescriptionStyleModel",
          "state": {
            "_view_name": "StyleView",
            "_model_name": "DescriptionStyleModel",
            "description_width": "",
            "_view_module": "@jupyter-widgets/base",
            "_model_module_version": "1.5.0",
            "_view_count": null,
            "_view_module_version": "1.2.0",
            "_model_module": "@jupyter-widgets/controls"
          }
        },
        "0ef91931b04642758404b376fd1d5734": {
          "model_module": "@jupyter-widgets/base",
          "model_name": "LayoutModel",
          "state": {
            "_view_name": "LayoutView",
            "grid_template_rows": null,
            "right": null,
            "justify_content": null,
            "_view_module": "@jupyter-widgets/base",
            "overflow": null,
            "_model_module_version": "1.2.0",
            "_view_count": null,
            "flex_flow": null,
            "width": null,
            "min_width": null,
            "border": null,
            "align_items": null,
            "bottom": null,
            "_model_module": "@jupyter-widgets/base",
            "top": null,
            "grid_column": null,
            "overflow_y": null,
            "overflow_x": null,
            "grid_auto_flow": null,
            "grid_area": null,
            "grid_template_columns": null,
            "flex": null,
            "_model_name": "LayoutModel",
            "justify_items": null,
            "grid_row": null,
            "max_height": null,
            "align_content": null,
            "visibility": null,
            "align_self": null,
            "height": null,
            "min_height": null,
            "padding": null,
            "grid_auto_rows": null,
            "grid_gap": null,
            "max_width": null,
            "order": null,
            "_view_module_version": "1.2.0",
            "grid_template_areas": null,
            "object_position": null,
            "object_fit": null,
            "grid_auto_columns": null,
            "margin": null,
            "display": null,
            "left": null
          }
        }
      }
    },
    "accelerator": "GPU"
  },
  "cells": [
    {
      "cell_type": "markdown",
      "metadata": {
        "id": "f5vw9BwW6Q1p"
      },
      "source": [
        "## Related links for BERT-for-QA\n",
        "1. BERT uses SQuAD v1.1 dataset for training. \n",
        "2. [SQuAD Dataset Link](https://rajpurkar.github.io/SQuAD-explorer/explore/1.1/dev/Super_Bowl_50.html?model=r-net+%20(ensemble)%20(Microsoft%20Research%20Asia)&version=1.1)\n",
        "3. [Our used model Link](https://huggingface.co/bert-large-uncased-whole-word-masking-finetuned-squad?fbclid=IwAR0ahQVEOYymV9bbiIss2nsCJh6BXyMXAOyZERjrVXiyUL1RN1txftWYlhU)\n",
        "4. [The paper of the proposed Model](https://arxiv.org/abs/1810.04805)"
      ]
    },
    {
      "cell_type": "markdown",
      "metadata": {
        "id": "uLYrrzY5-iG-"
      },
      "source": [
        "### BERT large model (uncased) whole word masking finetuned on SQuAD\n",
        "- BERT is a transformers model pretrained on a large corpus of English data in a self-supervised fashion. This means it was pretrained on the raw texts only, with no humans labelling them in any way (which is why it can use lots of publicly available data). More precisely, it was pretrained with two objectives:\n",
        "  - Masked language modeling (MLM): taking a sentence, the model randomly masks 15% of the words in the input then run the entire masked sentence through the model and has to predict the masked words. It allows the model to learn a bidirectional representation of the sentence.\n",
        "  - Next sentence prediction (NSP): the models concatenates two masked sentences as inputs during pretraining. Sometimes they correspond to sentences that were next to each other in the original text, sometimes not. The model then has to predict if the two sentences were following each other or not.\n",
        "- This model has the following configuration: 24-layer, 1024 hidden dimension, 16 attention heads, 336M parameters."
      ]
    },
    {
      "cell_type": "markdown",
      "metadata": {
        "id": "VHN1QC4pDLNa"
      },
      "source": [
        "### BERT I/P Format:\n",
        "- To feed BERT model, we pack both the question and the reference text into the input. \n",
        "- Tokens are separated as: **[CLS] [Question]...[Tokens] [Sep] [Context]...[Tokens]**\n",
        "- BERT also uses \"Segment Embeddings\" to differentiate the question from the reference text. These are simply two embeddings (for segments \"A\" and \"B\")\n",
        "<img src=\"https://github.com/SaiferGit/Hands-On-QA/blob/main/Snapshots/input_formatting.png\" width=700>"
      ]
    },
    {
      "cell_type": "markdown",
      "metadata": {
        "id": "0dOXEDPjFKjz"
      },
      "source": [
        "### Start and End Token Classifier:\n",
        "\n",
        "- start token classification:\n",
        "\n",
        "<img src=\"https://github.com/SaiferGit/Hands-On-QA/blob/main/Snapshots/start_token_classification.png\" width=\"750\"> \n",
        "\n",
        "- end token classification:\n",
        "\n",
        "<img src=\"https://github.com/SaiferGit/Hands-On-QA/blob/main/Snapshots/end_token_classification.png\" width=\"500\" align='center'>\n",
        "\n",
        "\n"
      ]
    },
    {
      "cell_type": "code",
      "metadata": {
        "id": "asgNV60UlGRD"
      },
      "source": [
        "!pip install transformers --quiet\n",
        "from IPython.display import display # for ipynb display\n",
        "from IPython.html import widgets # for ipynb display\n",
        "import torch\n",
        "import time"
      ],
      "execution_count": null,
      "outputs": []
    },
    {
      "cell_type": "code",
      "metadata": {
        "colab": {
          "base_uri": "https://localhost:8080/",
          "height": 115,
          "referenced_widgets": [
            "c980d5b3d03c4fdf93e6e30905b41db6",
            "30e2fb2bd0954aab9b0578c9c84c1a56",
            "d95db861c5ac4e2dba355627c9f6b40f",
            "12a20f7609ab408db056f7cc8e948896",
            "56fa95a1d27a4cfd8fa017c88bdaa13b",
            "b38cf5319e2d43eba9ce0922f57ea666",
            "8133b477b4314adbaade1e07efe5e590",
            "98cf0df5002d41b7a828244abc404ad0",
            "042ee920718541f38d7195fc5de5ecfa",
            "add1f79214b948a99b7ed8d0d51e65c8",
            "8594d44852014e04abd11f4402691213",
            "fb0c7ef49f184c8c9167d609f87dd00f",
            "09df9a06f2a84df4bb25b866c651b897",
            "4ee331a340334bc89b84d04b02a85044",
            "2aaaf7a1ab5947899d5f25b43c5e4ffa",
            "793793e8226145c9893c40270d732a85"
          ]
        },
        "id": "FVhWwcVqra_Z",
        "outputId": "fcf89f97-e176-42d7-a5a8-84f530ed9230"
      },
      "source": [
        "# For Question Answering we use the BertForQuestionAnswering class from the transformers library.\n",
        "# This class is already pre-trained, we fine-tuned it with SQuAD Dataset v1.1, it's not outputting whether the question is \"impossible\" to answer from the text (which is part of the task in v2 of SQuAD).\n",
        "from transformers import BertForQuestionAnswering\n",
        "\n",
        "model = BertForQuestionAnswering.from_pretrained('bert-large-uncased-whole-word-masking-finetuned-squad')\n"
      ],
      "execution_count": null,
      "outputs": [
        {
          "output_type": "display_data",
          "data": {
            "application/vnd.jupyter.widget-view+json": {
              "model_id": "c980d5b3d03c4fdf93e6e30905b41db6",
              "version_minor": 0,
              "version_major": 2
            },
            "text/plain": [
              "HBox(children=(FloatProgress(value=0.0, description='Downloading', max=443.0, style=ProgressStyle(description_…"
            ]
          },
          "metadata": {
            "tags": []
          }
        },
        {
          "output_type": "stream",
          "text": [
            "\n"
          ],
          "name": "stdout"
        },
        {
          "output_type": "display_data",
          "data": {
            "application/vnd.jupyter.widget-view+json": {
              "model_id": "042ee920718541f38d7195fc5de5ecfa",
              "version_minor": 0,
              "version_major": 2
            },
            "text/plain": [
              "HBox(children=(FloatProgress(value=0.0, description='Downloading', max=1340675298.0, style=ProgressStyle(descr…"
            ]
          },
          "metadata": {
            "tags": []
          }
        },
        {
          "output_type": "stream",
          "text": [
            "\n"
          ],
          "name": "stdout"
        }
      ]
    },
    {
      "cell_type": "code",
      "metadata": {
        "id": "j-86jvdwrc_D",
        "colab": {
          "base_uri": "https://localhost:8080/",
          "height": 164,
          "referenced_widgets": [
            "52f10c0e9d6f4f8fb924e0b1305b9a0a",
            "addbce07a934437dac12199099aefd7c",
            "bfc0f74bfdc042cf96a4c8b84711b0f5",
            "7de7bfb718e441829c3079f311d4ea81",
            "50cf24da7777497cb76596ffd1ddce1b",
            "486903a294734ed687bcbde2268d87c1",
            "72cfb8bcb9b9427584460748c006ae95",
            "6c24c747140c406abaa1e7e74f6494de",
            "d445d7e314ef4933910161569d975947",
            "4e493d0cf509425db95e6a9380bee831",
            "036cbab7608f4c5783f41e159f881db4",
            "8e6a4e5f74614fd3a7f9a5d8e7ff50b0",
            "ba87ea1bc3cd4d1e8e4ca2935447cd37",
            "1f07d363d94141a9ab8ade60df66f6cb",
            "16979ec9fe3c46ceae8e7375ae2bb219",
            "f7cf46380c2f426e9ac78dcdc2daaf5a",
            "36dab71e4ea84bca8b42f3a93e6886d1",
            "4601ff2cebc3464c802909d58f7e479b",
            "804940afd4ef4bd5a8f14035e8694a34",
            "01d7031e8d9c461e841ebfe916eeaa41",
            "c73ababba6f04846a719a63f78d27a01",
            "9f19388114b849159fba20c7fed67d1a",
            "71292a0a21514d3d924c064f39e9678c",
            "0ef91931b04642758404b376fd1d5734"
          ]
        },
        "outputId": "6bb2a453-dfc0-427a-8994-dcd54030813b"
      },
      "source": [
        "# Load the tokenizer \n",
        "from transformers import BertTokenizer\n",
        "\n",
        "tokenizer = BertTokenizer.from_pretrained('bert-large-uncased-whole-word-masking-finetuned-squad')"
      ],
      "execution_count": null,
      "outputs": [
        {
          "output_type": "display_data",
          "data": {
            "application/vnd.jupyter.widget-view+json": {
              "model_id": "52f10c0e9d6f4f8fb924e0b1305b9a0a",
              "version_minor": 0,
              "version_major": 2
            },
            "text/plain": [
              "HBox(children=(FloatProgress(value=0.0, description='Downloading', max=231508.0, style=ProgressStyle(descripti…"
            ]
          },
          "metadata": {
            "tags": []
          }
        },
        {
          "output_type": "stream",
          "text": [
            "\n"
          ],
          "name": "stdout"
        },
        {
          "output_type": "display_data",
          "data": {
            "application/vnd.jupyter.widget-view+json": {
              "model_id": "d445d7e314ef4933910161569d975947",
              "version_minor": 0,
              "version_major": 2
            },
            "text/plain": [
              "HBox(children=(FloatProgress(value=0.0, description='Downloading', max=28.0, style=ProgressStyle(description_w…"
            ]
          },
          "metadata": {
            "tags": []
          }
        },
        {
          "output_type": "stream",
          "text": [
            "\n"
          ],
          "name": "stdout"
        },
        {
          "output_type": "display_data",
          "data": {
            "application/vnd.jupyter.widget-view+json": {
              "model_id": "36dab71e4ea84bca8b42f3a93e6886d1",
              "version_minor": 0,
              "version_major": 2
            },
            "text/plain": [
              "HBox(children=(FloatProgress(value=0.0, description='Downloading', max=466062.0, style=ProgressStyle(descripti…"
            ]
          },
          "metadata": {
            "tags": []
          }
        },
        {
          "output_type": "stream",
          "text": [
            "\n"
          ],
          "name": "stdout"
        }
      ]
    },
    {
      "cell_type": "markdown",
      "metadata": {
        "id": "dGmmUDWZX2Gs"
      },
      "source": [
        "### Asking a Question"
      ]
    },
    {
      "cell_type": "code",
      "metadata": {
        "id": "zAaACLxNre8f"
      },
      "source": [
        "question = \"What are the public holidays of Bangladesh?\"\n",
        "answer_text = \"including monitoring of sighting of the moon in accordance with the lunar Islamic calendar in order to set festival dates; as well as the charitable tradition of zakat. Public holidays include the Islamic observances of Eid-ul-Fitr, Eid-al-Adha, the Prophet's Birthday, Ashura and Shab-e-Barat.\""
      ],
      "execution_count": null,
      "outputs": []
    },
    {
      "cell_type": "markdown",
      "metadata": {
        "id": "1F3cwQZqYR6U"
      },
      "source": [
        "We'll need to run the BERT tokenizer against both the `question` and the `answer_text`. To feed these into BERT, we actually concatenate them together and place the special [SEP] token in between."
      ]
    },
    {
      "cell_type": "code",
      "metadata": {
        "colab": {
          "base_uri": "https://localhost:8080/"
        },
        "id": "685jAmMSrhIv",
        "outputId": "98f6246e-3dde-45d2-d9cc-776079087dfd"
      },
      "source": [
        "# Apply the tokenizer to the input text, treating them as a text-pair.\n",
        "input_ids = tokenizer.encode(question, answer_text)\n",
        "\n",
        "print('The input has a total of {:} tokens.'.format(len(input_ids)))"
      ],
      "execution_count": null,
      "outputs": [
        {
          "output_type": "stream",
          "text": [
            "The input has a total of 84 tokens.\n"
          ],
          "name": "stdout"
        }
      ]
    },
    {
      "cell_type": "markdown",
      "metadata": {
        "id": "k9h11NEFY-ka"
      },
      "source": [
        "BERT only needs the token IDs, but for the purpose of inspecting the tokenizer's behavior, let's also get the token strings and display them. Printing out the tokens with their IDs"
      ]
    },
    {
      "cell_type": "code",
      "metadata": {
        "colab": {
          "base_uri": "https://localhost:8080/"
        },
        "id": "V7PC5Ez3rjfq",
        "outputId": "1c02371e-c088-4d51-eaa1-a086b0c04daa"
      },
      "source": [
        "tokens = tokenizer.convert_ids_to_tokens(input_ids)\n",
        "\n",
        "# For each token and its id...\n",
        "for token, id in zip(tokens, input_ids):\n",
        "    \n",
        "    # If this is the [SEP] token, add some space around it to make it stand out.\n",
        "    if id == tokenizer.sep_token_id:\n",
        "        print('')\n",
        "    \n",
        "    # Print the token string and its ID in two columns.\n",
        "    print('{:<10} {:>3,}'.format(token, id))\n",
        "\n",
        "    if id == tokenizer.sep_token_id:\n",
        "        print('')\n",
        "    "
      ],
      "execution_count": null,
      "outputs": [
        {
          "output_type": "stream",
          "text": [
            "[CLS]      101\n",
            "what       2,054\n",
            "are        2,024\n",
            "the        1,996\n",
            "public     2,270\n",
            "holidays   11,938\n",
            "of         1,997\n",
            "bangladesh 7,269\n",
            "?          1,029\n",
            "\n",
            "[SEP]      102\n",
            "\n",
            "including  2,164\n",
            "monitoring 8,822\n",
            "of         1,997\n",
            "sighting   29,426\n",
            "of         1,997\n",
            "the        1,996\n",
            "moon       4,231\n",
            "in         1,999\n",
            "accordance 10,388\n",
            "with       2,007\n",
            "the        1,996\n",
            "lunar      11,926\n",
            "islamic    5,499\n",
            "calendar   8,094\n",
            "in         1,999\n",
            "order      2,344\n",
            "to         2,000\n",
            "set        2,275\n",
            "festival   2,782\n",
            "dates      5,246\n",
            ";          1,025\n",
            "as         2,004\n",
            "well       2,092\n",
            "as         2,004\n",
            "the        1,996\n",
            "charitable 11,128\n",
            "tradition  4,535\n",
            "of         1,997\n",
            "za         23,564\n",
            "##kat      24,498\n",
            ".          1,012\n",
            "public     2,270\n",
            "holidays   11,938\n",
            "include    2,421\n",
            "the        1,996\n",
            "islamic    5,499\n",
            "ob         27,885\n",
            "##ser      8,043\n",
            "##vances   26,711\n",
            "of         1,997\n",
            "e          1,041\n",
            "##id       3,593\n",
            "-          1,011\n",
            "ul         17,359\n",
            "-          1,011\n",
            "fit        4,906\n",
            "##r        2,099\n",
            ",          1,010\n",
            "e          1,041\n",
            "##id       3,593\n",
            "-          1,011\n",
            "al         2,632\n",
            "-          1,011\n",
            "ad         4,748\n",
            "##ha       3,270\n",
            ",          1,010\n",
            "the        1,996\n",
            "prophet    12,168\n",
            "'          1,005\n",
            "s          1,055\n",
            "birthday   5,798\n",
            ",          1,010\n",
            "ash        6,683\n",
            "##ura      4,648\n",
            "and        1,998\n",
            "sha        21,146\n",
            "##b        2,497\n",
            "-          1,011\n",
            "e          1,041\n",
            "-          1,011\n",
            "bar        3,347\n",
            "##at       4,017\n",
            ".          1,012\n",
            "\n",
            "[SEP]      102\n",
            "\n"
          ],
          "name": "stdout"
        }
      ]
    },
    {
      "cell_type": "markdown",
      "metadata": {
        "id": "5Dx05mExaUyy"
      },
      "source": [
        "We've concatenated the question and answer_text together, but BERT still needs a way to distinguish them.\n",
        "\n",
        "BERT has two special \"Segment\" embeddings: `Segment A` for Question tokens and `Segment B` for Contexts/answer_text tokens.\n",
        "\n",
        "Then before feeding this into with BERT layers, we first concatenate `Segment A` embeddings with Question tokens and then `Segment B` embeddings with answer_text tokens. These additions are already handeled by `transformer` library. We just need to specify '0' and '1' for each token.\n",
        "\n",
        "In the `transformers` library, huggingface likes to call these `token_type_ids`, but BERT paper uses `segment_ids` instead. "
      ]
    },
    {
      "cell_type": "code",
      "metadata": {
        "id": "PCmufqIUrmSk",
        "colab": {
          "base_uri": "https://localhost:8080/"
        },
        "outputId": "983eb476-5ab0-4da9-ad61-bfcc7b350214"
      },
      "source": [
        "# Search the input_ids for the first instance of the `[SEP]` token.\n",
        "sep_index = input_ids.index(tokenizer.sep_token_id) # returning first index of [SEP] token\n",
        "\n",
        "# The number of segment A tokens includes the [SEP] token istelf.\n",
        "num_seg_a = sep_index + 1\n",
        "\n",
        "# The remainder are segment B.\n",
        "num_seg_b = len(input_ids) - num_seg_a\n",
        "\n",
        "# Construct the list of 0s and 1s.\n",
        "segment_ids = [0]*num_seg_a + [1]*num_seg_b\n",
        "print(segment_ids)\n",
        "\n",
        "# There should be a segment_id for every input token.\n",
        "# The assert keyword lets you test if a condition in your code returns True, if not, the program will raise an AssertionError. \n",
        "assert len(segment_ids) == len(input_ids), \"length does not match, your segment_ids length does not match with number of tokens\""
      ],
      "execution_count": null,
      "outputs": [
        {
          "output_type": "stream",
          "text": [
            "[0, 0, 0, 0, 0, 0, 0, 0, 0, 0, 1, 1, 1, 1, 1, 1, 1, 1, 1, 1, 1, 1, 1, 1, 1, 1, 1, 1, 1, 1, 1, 1, 1, 1, 1, 1, 1, 1, 1, 1, 1, 1, 1, 1, 1, 1, 1, 1, 1, 1, 1, 1, 1, 1, 1, 1, 1, 1, 1, 1, 1, 1, 1, 1, 1, 1, 1, 1, 1, 1, 1, 1, 1, 1, 1, 1, 1, 1, 1, 1, 1, 1, 1, 1]\n"
          ],
          "name": "stdout"
        }
      ]
    },
    {
      "cell_type": "markdown",
      "metadata": {
        "id": "Ba8aeMXQdtCj"
      },
      "source": [
        "We're ready to feed our example into the model!"
      ]
    },
    {
      "cell_type": "code",
      "metadata": {
        "id": "GtsO57d8roYP",
        "colab": {
          "base_uri": "https://localhost:8080/"
        },
        "outputId": "6b9bcab2-b763-42cb-d5e7-a38a7e257fc0"
      },
      "source": [
        "# Run our example through the model.\n",
        "outputs = model(torch.tensor([input_ids]), # The tokens representing our input text.\n",
        "                             token_type_ids=torch.tensor([segment_ids]), # The segment IDs to differentiate question from answer_text\n",
        "                             return_dict=True) \n",
        "\n",
        "# Span-start scores (before SoftMax)\n",
        "start_scores = outputs.start_logits \n",
        "print(start_scores)\n",
        "# Span-end scores (before SoftMax)\n",
        "end_scores = outputs.end_logits \n",
        "print(end_scores)"
      ],
      "execution_count": null,
      "outputs": [
        {
          "output_type": "stream",
          "text": [
            "tensor([[-5.9127, -4.5799, -6.2805, -5.9091, -6.6841, -7.3693, -6.9432, -5.1894,\n",
            "         -8.6772, -5.9126, -6.2916, -4.7875, -8.0206, -4.9869, -8.3989, -8.2482,\n",
            "         -6.3489, -8.3123, -7.5380, -8.1773, -7.0380, -5.0207, -4.6673, -6.1177,\n",
            "         -8.3096, -8.0275, -7.6229, -6.4729, -4.0683, -6.1991, -8.1525, -7.7648,\n",
            "         -7.9924, -8.1408, -5.9551, -4.3948, -5.7733, -7.6992, -5.6835, -6.9369,\n",
            "         -5.9126,  2.3565, -2.4022,  0.4396,  4.6195,  5.3954, -0.2186, -3.2802,\n",
            "         -2.4137, -2.9397,  5.6666, -3.0419, -5.0751, -4.7666, -5.5023, -4.9921,\n",
            "         -4.9605, -3.7193, -2.0489, -5.2415, -6.4632, -5.3962, -7.2315, -5.8659,\n",
            "         -5.3283, -4.6710, -1.5938, -3.9851, -6.4203, -6.6945, -4.6286, -5.6478,\n",
            "         -1.6155, -5.6244, -5.0549, -3.4503, -5.7233, -6.8241, -6.1427, -7.0829,\n",
            "         -5.9187, -4.2400, -4.4023, -5.9126]], grad_fn=<SqueezeBackward1>)\n",
            "tensor([[-1.0389, -4.5786, -5.8303, -6.7499, -7.5687, -5.9852, -6.1440, -4.6431,\n",
            "         -6.7921, -1.0388, -7.8035, -6.3010, -7.7202, -6.4264, -7.8253, -8.0763,\n",
            "         -4.0808, -7.7710, -6.8791, -7.8981, -8.2485, -6.5338, -3.9477, -3.6808,\n",
            "         -7.8943, -7.1801, -8.0752, -7.4939, -5.0164, -3.4911, -5.5888, -7.5293,\n",
            "         -7.1128, -7.1311, -7.8551, -6.0179, -4.9693, -7.3436, -7.0932, -3.4196,\n",
            "         -1.0386, -4.9676, -3.7486, -5.2591, -3.1584, -0.8977, -3.0405, -3.1692,\n",
            "          3.3645, -0.9767, -3.0254, -2.0326, -3.9327, -2.1204, -4.0473, -2.7090,\n",
            "          0.7563,  0.1139, -3.2172, -1.9528, -3.2373, -1.7047, -4.2362, -2.7306,\n",
            "          2.3503,  1.2200, -4.5093, -3.4608, -6.5059, -3.7701,  0.6419,  0.4287,\n",
            "         -2.9122, -0.8477, -2.1598, -1.9419, -2.3344, -3.4563, -2.0552, -3.1890,\n",
            "         -1.6521,  6.4520,  4.7832, -1.0390]], grad_fn=<SqueezeBackward1>)\n"
          ],
          "name": "stdout"
        }
      ]
    },
    {
      "cell_type": "markdown",
      "metadata": {
        "id": "atnadyrxifMA"
      },
      "source": [
        "Now we can highlight the answer just by looking at the most probable start and end words."
      ]
    },
    {
      "cell_type": "code",
      "metadata": {
        "colab": {
          "base_uri": "https://localhost:8080/"
        },
        "id": "p7u7FIYqrqnI",
        "outputId": "e674631a-db9a-41ed-e77a-e157608f5c01"
      },
      "source": [
        "# Find the tokens with the highest `start` and `end` scores.\n",
        "# torch.argmax Returns the indices of the maximum value of all elements in the input tensor.\n",
        "answer_start = torch.argmax(start_scores)\n",
        "answer_end = torch.argmax(end_scores)\n",
        "\n",
        "# Combine the tokens in the answer and print it out.\n",
        "answer = ' '.join(tokens[answer_start:answer_end+1])\n",
        "\n",
        "print('Answer: ' + answer)"
      ],
      "execution_count": null,
      "outputs": [
        {
          "output_type": "stream",
          "text": [
            "Answer: e ##id - ul - fit ##r , e ##id - al - ad ##ha , the prophet ' s birthday , ash ##ura and sha ##b - e - bar ##at\n"
          ],
          "name": "stdout"
        }
      ]
    },
    {
      "cell_type": "markdown",
      "metadata": {
        "id": "NvxUOhE3lJiW"
      },
      "source": [
        "Reconstructing any words that got broken down into subwords."
      ]
    },
    {
      "cell_type": "code",
      "metadata": {
        "colab": {
          "base_uri": "https://localhost:8080/"
        },
        "id": "ayyx6Goyrs9E",
        "outputId": "00e27b3e-9435-4c72-a6f0-1e69b11a9e46"
      },
      "source": [
        "# Start with the first token.\n",
        "answer = tokens[answer_start]\n",
        "\n",
        "# Select the remaining answer tokens and join them with whitespace.\n",
        "for i in range(answer_start + 1, answer_end + 1):\n",
        "    \n",
        "    # If it's a subword token, then recombine it with the previous token.\n",
        "    if tokens[i][0:2] == '##':\n",
        "        answer += tokens[i][2:]\n",
        "    \n",
        "    # Otherwise, add a space then the token.\n",
        "    else:\n",
        "        answer += ' ' + tokens[i]\n",
        "\n",
        "print('Answer: \"' + answer + '\"')"
      ],
      "execution_count": null,
      "outputs": [
        {
          "output_type": "stream",
          "text": [
            "Answer: \"eid - ul - fitr , eid - al - adha , the prophet ' s birthday , ashura and shab - e - barat\"\n"
          ],
          "name": "stdout"
        }
      ]
    },
    {
      "cell_type": "markdown",
      "metadata": {
        "id": "uV3wqPsXnXx9"
      },
      "source": [
        "### Visualizing Scores"
      ]
    },
    {
      "cell_type": "code",
      "metadata": {
        "id": "KIRWmakHrxBY"
      },
      "source": [
        "import matplotlib.pyplot as plt\n",
        "import seaborn as sns\n",
        "\n",
        "# Use plot styling from seaborn.\n",
        "sns.set(style='darkgrid')\n",
        "\n",
        "# Increase the plot size and font size.\n",
        "#sns.set(font_scale=1.5)\n",
        "plt.rcParams[\"figure.figsize\"] = (16,8)"
      ],
      "execution_count": null,
      "outputs": []
    },
    {
      "cell_type": "code",
      "metadata": {
        "id": "zfTh4lAQry7m"
      },
      "source": [
        "# Pull the scores out of PyTorch Tensors and convert them to 1D numpy arrays.\n",
        "s_scores = start_scores.detach().numpy().flatten()\n",
        "e_scores = end_scores.detach().numpy().flatten()\n",
        "\n",
        "# We'll use the tokens as the x-axis labels. In order to do that, they all need\n",
        "# to be unique, so we'll add the token index to the end of each one.\n",
        "token_labels = []\n",
        "for (i, token) in enumerate(tokens):\n",
        "    token_labels.append('{:} - {:>2}'.format(token, i))\n"
      ],
      "execution_count": null,
      "outputs": []
    },
    {
      "cell_type": "code",
      "metadata": {
        "colab": {
          "base_uri": "https://localhost:8080/",
          "height": 580
        },
        "id": "QWHkBKiEr1BV",
        "outputId": "05330aa4-f28f-4806-aa3f-39406383794b"
      },
      "source": [
        "# Create a barplot showing the start word score for all of the tokens.\n",
        "ax = sns.barplot(x=token_labels, y=s_scores, ci=None)\n",
        "\n",
        "# Turn the xlabels vertical.\n",
        "ax.set_xticklabels(ax.get_xticklabels(), rotation=90, ha=\"center\")\n",
        "\n",
        "# Turn on the vertical grid to help align words to scores.\n",
        "ax.grid(True)\n",
        "\n",
        "plt.title('Start Word Scores')\n",
        "\n",
        "plt.show()"
      ],
      "execution_count": null,
      "outputs": [
        {
          "output_type": "display_data",
          "data": {
            "image/png": "[encoded data removed]",
            "text/plain": [
              "<Figure size 1152x576 with 1 Axes>"
            ]
          },
          "metadata": {
            "tags": []
          }
        }
      ]
    },
    {
      "cell_type": "code",
      "metadata": {
        "colab": {
          "base_uri": "https://localhost:8080/",
          "height": 580
        },
        "id": "oKaaoyQUr3Ee",
        "outputId": "8b31bea7-89b6-47b0-9f12-9b4607728175"
      },
      "source": [
        "# Create a barplot showing the end word score for all of the tokens.\n",
        "ax = sns.barplot(x=token_labels, y=e_scores, ci=None)\n",
        "\n",
        "# Turn the xlabels vertical.\n",
        "ax.set_xticklabels(ax.get_xticklabels(), rotation=90, ha=\"center\")\n",
        "\n",
        "# Turn on the vertical grid to help align words to scores.\n",
        "ax.grid(True)\n",
        "\n",
        "plt.title('End Word Scores')\n",
        "\n",
        "plt.show()"
      ],
      "execution_count": null,
      "outputs": [
        {
          "output_type": "display_data",
          "data": {
            "image/png": "[encoded data removed]",
            "text/plain": [
              "<Figure size 1152x576 with 1 Axes>"
            ]
          },
          "metadata": {
            "tags": []
          }
        }
      ]
    },
    {
      "cell_type": "code",
      "metadata": {
        "id": "XYgTEnMQr5at"
      },
      "source": [
        "import pandas as pd\n",
        "\n",
        "# Store the tokens and scores in a DataFrame. \n",
        "# Each token will have two rows, one for its start score and one for its end\n",
        "# score. The \"marker\" column will differentiate them. A little wacky, I know.\n",
        "scores = []\n",
        "for (i, token_label) in enumerate(token_labels):\n",
        "\n",
        "    # Add the token's start score as one row.\n",
        "    scores.append({'token_label': token_label, \n",
        "                   'score': s_scores[i],\n",
        "                   'marker': 'start'})\n",
        "    \n",
        "    # Add  the token's end score as another row.\n",
        "    scores.append({'token_label': token_label, \n",
        "                   'score': e_scores[i],\n",
        "                   'marker': 'end'})\n",
        "    \n",
        "df = pd.DataFrame(scores)\n"
      ],
      "execution_count": null,
      "outputs": []
    },
    {
      "cell_type": "code",
      "metadata": {
        "colab": {
          "base_uri": "https://localhost:8080/",
          "height": 553
        },
        "id": "oKWwlVKLr7n9",
        "outputId": "82b93a0d-5732-4a82-a80a-1ba37b7f4096"
      },
      "source": [
        "# Draw a grouped barplot to show start and end scores for each word.\n",
        "# The \"hue\" parameter is where we tell it which datapoints belong to which\n",
        "# of the two series.\n",
        "g = sns.catplot(x=\"token_label\", y=\"score\", hue=\"marker\", data=df,\n",
        "                kind=\"bar\", height=6, aspect=4)\n",
        "\n",
        "# Turn the xlabels vertical.\n",
        "g.set_xticklabels(g.ax.get_xticklabels(), rotation=90, ha=\"center\")\n",
        "\n",
        "# Turn on the vertical grid to help align words to scores.\n",
        "g.ax.grid(True)\n"
      ],
      "execution_count": null,
      "outputs": [
        {
          "output_type": "display_data",
          "data": {
            "image/png": "[encoded data removed]",
            "text/plain": [
              "<Figure size 1793.47x432 with 1 Axes>"
            ]
          },
          "metadata": {
            "tags": []
          }
        }
      ]
    },
    {
      "cell_type": "markdown",
      "metadata": {
        "id": "KXF2lKban2fE"
      },
      "source": [
        "### Defining All The Codes into A Method"
      ]
    },
    {
      "cell_type": "code",
      "metadata": {
        "id": "WMsyAms7r-BX"
      },
      "source": [
        "def answer_question(question, answer_text):\n",
        "    '''\n",
        "    Takes a `question` string and an `answer_text` string (which contains the\n",
        "    answer), and identifies the words within the `answer_text` that are the\n",
        "    answer. Prints them out.\n",
        "    '''\n",
        "    # ======== Tokenize ========\n",
        "    # Apply the tokenizer to the input text, treating them as a text-pair.\n",
        "    input_ids = tokenizer.encode(question, answer_text)\n",
        "\n",
        "    # Report how long the input sequence is.\n",
        "    print('Query has {:,} tokens.\\n'.format(len(input_ids)))\n",
        "\n",
        "    # ======== Set Segment IDs ========\n",
        "    # Search the input_ids for the first instance of the `[SEP]` token.\n",
        "    sep_index = input_ids.index(tokenizer.sep_token_id)\n",
        "\n",
        "    # The number of segment A tokens includes the [SEP] token istelf.\n",
        "    num_seg_a = sep_index + 1\n",
        "\n",
        "    # The remainder are segment B.\n",
        "    num_seg_b = len(input_ids) - num_seg_a\n",
        "\n",
        "    # Construct the list of 0s and 1s.\n",
        "    segment_ids = [0]*num_seg_a + [1]*num_seg_b\n",
        "\n",
        "    # There should be a segment_id for every input token.\n",
        "    assert len(segment_ids) == len(input_ids)\n",
        "\n",
        "    # ======== Evaluate ========\n",
        "    # Run our example through the model.\n",
        "    outputs = model(torch.tensor([input_ids]), # The tokens representing our input text.\n",
        "                    token_type_ids=torch.tensor([segment_ids]), # The segment IDs to differentiate question from answer_text\n",
        "                    return_dict=True) \n",
        "\n",
        "    start_scores = outputs.start_logits\n",
        "    end_scores = outputs.end_logits\n",
        "\n",
        "    # ======== Reconstruct Answer ========\n",
        "    # Find the tokens with the highest `start` and `end` scores.\n",
        "    answer_start = torch.argmax(start_scores)\n",
        "    answer_end = torch.argmax(end_scores)\n",
        "\n",
        "    # Get the string versions of the input tokens.\n",
        "    tokens = tokenizer.convert_ids_to_tokens(input_ids)\n",
        "\n",
        "    # Start with the first token.\n",
        "    answer = tokens[answer_start]\n",
        "\n",
        "    # Select the remaining answer tokens and join them with whitespace.\n",
        "    for i in range(answer_start + 1, answer_end + 1):\n",
        "        \n",
        "        # If it's a subword token, then recombine it with the previous token.\n",
        "        if tokens[i][0:2] == '##':\n",
        "            answer += tokens[i][2:]\n",
        "        \n",
        "        # Otherwise, add a space then the token.\n",
        "        else:\n",
        "            answer += ' ' + tokens[i]\n",
        "\n",
        "    print('Answer: \"' + answer + '\"')"
      ],
      "execution_count": null,
      "outputs": []
    },
    {
      "cell_type": "code",
      "metadata": {
        "colab": {
          "base_uri": "https://localhost:8080/"
        },
        "id": "Ux_8Ln69sAOa",
        "outputId": "557d180c-82d0-4a73-ea66-3b1e0be515ef"
      },
      "source": [
        "import textwrap\n",
        "\n",
        "# Wrap text to 80 characters.\n",
        "wrapper = textwrap.TextWrapper(width=120) \n",
        "\n",
        "bert_abstract = \"We introduce a new language representation model called BERT, which stands for Bidirectional Encoder Representations from Transformers. Unlike recent language representation models (Peters et al., 2018a; Radford et al., 2018), BERT is designed to pretrain deep bidirectional representations from unlabeled text by jointly conditioning on both left and right context in all layers. As a result, the pre-trained BERT model can be finetuned with just one additional output layer to create state-of-the-art models for a wide range of tasks, such as question answering and language inference, without substantial taskspecific architecture modifications. BERT is conceptually simple and empirically powerful. It obtains new state-of-the-art results on eleven natural language processing tasks, including pushing the GLUE score to 80.5% (7.7% point absolute improvement), MultiNLI accuracy to 86.7% (4.6% absolute improvement), SQuAD v1.1 question answering Test F1 to 93.2 (1.5 point absolute improvement) and SQuAD v2.0 Test F1 to 83.1 (5.1 point absolute improvement).\"\n",
        "\n",
        "print(wrapper.fill(bert_abstract))"
      ],
      "execution_count": null,
      "outputs": [
        {
          "output_type": "stream",
          "text": [
            "We introduce a new language representation model called BERT, which stands for Bidirectional Encoder Representations\n",
            "from Transformers. Unlike recent language representation models (Peters et al., 2018a; Radford et al., 2018), BERT is\n",
            "designed to pretrain deep bidirectional representations from unlabeled text by jointly conditioning on both left and\n",
            "right context in all layers. As a result, the pre-trained BERT model can be finetuned with just one additional output\n",
            "layer to create state-of-the-art models for a wide range of tasks, such as question answering and language inference,\n",
            "without substantial taskspecific architecture modifications. BERT is conceptually simple and empirically powerful. It\n",
            "obtains new state-of-the-art results on eleven natural language processing tasks, including pushing the GLUE score to\n",
            "80.5% (7.7% point absolute improvement), MultiNLI accuracy to 86.7% (4.6% absolute improvement), SQuAD v1.1 question\n",
            "answering Test F1 to 93.2 (1.5 point absolute improvement) and SQuAD v2.0 Test F1 to 83.1 (5.1 point absolute\n",
            "improvement).\n"
          ],
          "name": "stdout"
        }
      ]
    },
    {
      "cell_type": "code",
      "metadata": {
        "colab": {
          "base_uri": "https://localhost:8080/"
        },
        "id": "suzqpz0OsCwQ",
        "outputId": "ea8cb1b2-131a-4e72-87e8-672addf98ccc"
      },
      "source": [
        "question = \"What does the 'B' in BERT stand for?\"\n",
        "\n",
        "answer_question(question, bert_abstract)"
      ],
      "execution_count": null,
      "outputs": [
        {
          "output_type": "stream",
          "text": [
            "Query has 258 tokens.\n",
            "\n",
            "Answer: \"bidirectional encoder representations from transformers\"\n"
          ],
          "name": "stdout"
        }
      ]
    },
    {
      "cell_type": "code",
      "metadata": {
        "colab": {
          "base_uri": "https://localhost:8080/"
        },
        "id": "Q8RgaRtGsEsv",
        "outputId": "793391cf-1076-4487-ed53-fbf01e69b50e"
      },
      "source": [
        "question = \"What are some example applications of BERT?\"\n",
        "\n",
        "answer_question(question, bert_abstract)"
      ],
      "execution_count": null,
      "outputs": [
        {
          "output_type": "stream",
          "text": [
            "Query has 255 tokens.\n",
            "\n",
            "Answer: \"question answering and language inference\"\n"
          ],
          "name": "stdout"
        }
      ]
    },
    {
      "cell_type": "code",
      "metadata": {
        "colab": {
          "base_uri": "https://localhost:8080/"
        },
        "id": "W6e4SOWIyia8",
        "outputId": "655e4f48-53af-4328-d4fe-6b6523e251a7"
      },
      "source": [
        "start_time = time.time()\n",
        "question = \"What are the public holidays of Bangladesh?\"\n",
        "answer_text = \"including monitoring of sighting of the moon in accordance with the lunar Islamic calendar in order to set festival dates; as well as the charitable tradition of zakat. Public holidays include the Islamic observances of Eid-ul-Fitr, Eid-al-Adha, the Prophet's Birthday, Ashura and Shab-e-Barat.\"\n",
        "\n",
        "answer_question(question, answer_text)\n",
        "print(\"--- %s seconds ---\" % (time.time() - start_time))"
      ],
      "execution_count": null,
      "outputs": [
        {
          "output_type": "stream",
          "text": [
            "Query has 84 tokens.\n",
            "\n",
            "Answer: \"eid - ul - fitr , eid - al - adha , the prophet ' s birthday , ashura and shab - e - barat\"\n",
            "--- 1.264247179031372 seconds ---\n"
          ],
          "name": "stdout"
        }
      ]
    },
    {
      "cell_type": "markdown",
      "metadata": {
        "id": "dHYsYqNJozLM"
      },
      "source": [
        "## DistilBERT implementation\n",
        "1. [DistilBERT Paper](https://arxiv.org/abs/1910.01108)\n",
        "2. Used model [Link](https://huggingface.co/distilbert-base-uncased-distilled-squad)\n",
        "3. [Huggingface All Pretrained Model List](https://huggingface.co/transformers/pretrained_models.html)\n",
        "4. DistilBERT doesn’t have token_type_ids, you don’t need to indicate which token belongs to which segment. Just separate your segments with the separation token tokenizer.sep_token (or [SEP]).\n",
        "5. All functions of DistilBERT is [here](https://huggingface.co/transformers/model_doc/distilbert.html)"
      ]
    },
    {
      "cell_type": "code",
      "metadata": {
        "colab": {
          "base_uri": "https://localhost:8080/"
        },
        "id": "1FJc4XVnopD0",
        "outputId": "e6bf94e5-f50f-4705-f5d6-7784c063ddc9"
      },
      "source": [
        "from transformers import DistilBertForQuestionAnswering, DistilBertTokenizer\n",
        "DistilBERTmodel = DistilBertForQuestionAnswering.from_pretrained('distilbert-base-uncased-distilled-squad')\n",
        "DistilBERTtokenizer = DistilBertTokenizer.from_pretrained('distilbert-base-uncased', return_token_type_ids=True)\n",
        "\n",
        "def getOutputFromDistil(Dquestion, Danswer_text):\n",
        "  # ======== Tokenize ========\n",
        "  # Apply the tokenizer to the input text, treating them as a text-pair.\n",
        "  DistilBERTinput_ids = DistilBERTtokenizer.encode(question, answer_text)\n",
        "\n",
        "  # Report how long the input sequence is.\n",
        "  print('Query has {:,} tokens.\\n'.format(len(DistilBERTinput_ids)))\n",
        "\n",
        "  # ======== Evaluate ========\n",
        "  # Run our example through the model.\n",
        "  outputs = DistilBERTmodel(torch.tensor([DistilBERTinput_ids]), # The tokens representing our input text.\n",
        "                return_dict=True) \n",
        "\n",
        "  start_scores = outputs.start_logits\n",
        "  end_scores = outputs.end_logits\n",
        "\n",
        "  # ======== Reconstruct Answer ========\n",
        "  # Find the tokens with the highest `start` and `end` scores.\n",
        "  answer_start = torch.argmax(start_scores)\n",
        "  answer_end = torch.argmax(end_scores)\n",
        "\n",
        "  # Get the string versions of the input tokens.\n",
        "  tokens = DistilBERTtokenizer.convert_ids_to_tokens(DistilBERTinput_ids)\n",
        "\n",
        "  # Start with the first token.\n",
        "  answer = tokens[answer_start]\n",
        "\n",
        "  # Select the remaining answer tokens and join them with whitespace.\n",
        "  for i in range(answer_start + 1, answer_end + 1):\n",
        "    \n",
        "    # If it's a subword token, then recombine it with the previous token.\n",
        "    if tokens[i][0:2] == '##':\n",
        "        answer += tokens[i][2:]\n",
        "    \n",
        "    # Otherwise, add a space then the token.\n",
        "    else:\n",
        "        answer += ' ' + tokens[i]\n",
        "\n",
        "  print('Answer: \"' + answer + '\"')\n",
        "\n",
        "\n",
        "question = \"What are the public holidays of Bangladesh?\"\n",
        "answer_text = \"including monitoring of sighting of the moon in accordance with the lunar Islamic calendar in order to set festival dates; as well as the charitable tradition of zakat. Public holidays include the Islamic observances of Eid-ul-Fitr, Eid-al-Adha, the Prophet's Birthday, Ashura and Shab-e-Barat.\"\n",
        "start_time = time.time()\n",
        "getOutputFromDistil(question, answer_text)\n",
        "print(\"--- %s seconds ---\" % (time.time() - start_time))"
      ],
      "execution_count": null,
      "outputs": [
        {
          "output_type": "stream",
          "text": [
            "Query has 84 tokens.\n",
            "\n",
            "Answer: \"eid - ul - fitr , eid - al - adha , the prophet ' s birthday , ashura and shab - e - barat\"\n",
            "--- 0.17598509788513184 seconds ---\n"
          ],
          "name": "stdout"
        }
      ]
    },
    {
      "cell_type": "code",
      "metadata": {
        "colab": {
          "base_uri": "https://localhost:8080/"
        },
        "id": "k3_fiYKRq4LM",
        "outputId": "5c6bfa5a-0e91-4ad5-e22c-089c26b82b0d"
      },
      "source": [
        "question = \"Who was the founder of facebook?\"\n",
        "answer_text = \"Facebook (stylized as facebook) is an American online social media and social networking service based in Menlo Park, California, and a flagship service of the namesake company Facebook, Inc. It was founded by Mark Zuckerberg, along with fellow Harvard College students and roommates Eduardo Saverin, Andrew McCollum, Dustin Moskovitz, and Chris Hughes.\"\n",
        "\n",
        "start_time = time.time()\n",
        "getOutputFromDistil(question, answer_text)\n",
        "end_time = time.time()\n",
        "DistilBERTtime_taken = end_time - start_time\n",
        "print(\"---DistilBERT Got the answer in: %s seconds ---\" % DistilBERTtime_taken)\n",
        "\n",
        "start_time = time.time()\n",
        "answer_question(question, answer_text)\n",
        "end_time = time.time()\n",
        "BERTtime_taken = end_time - start_time\n",
        "print(\"---BERT Got the answer in: %s seconds ---\" % BERTtime_taken)\n",
        "\n",
        "\n",
        "total_time = DistilBERTtime_taken + BERTtime_taken\n",
        "faster = (BERTtime_taken - DistilBERTtime_taken)*100\n",
        "faster = faster/total_time\n",
        "print(\"==============\\n   DistilBERT is:  \")\n",
        "print(faster) \n",
        "print(\"% faster than BERT  \\n  ==============\")\n",
        "# print(\"---%d\\% faster than BERT ---\" % (faster))"
      ],
      "execution_count": null,
      "outputs": [
        {
          "output_type": "stream",
          "text": [
            "Query has 83 tokens.\n",
            "\n",
            "Answer: \"mark zuckerberg\"\n",
            "---DistilBERT Got the answer in: 0.1824321746826172 seconds ---\n",
            "Query has 83 tokens.\n",
            "\n",
            "Answer: \"mark zuckerberg\"\n",
            "---BERT Got the answer in: 1.2376108169555664 seconds ---\n",
            "==============\n",
            "   DistilBERT is:  \n",
            "74.30610541274379\n",
            "% faster than BERT  \n",
            "  ==============\n"
          ],
          "name": "stdout"
        }
      ]
    },
    {
      "cell_type": "code",
      "metadata": {
        "id": "L9CFu1GMryNj"
      },
      "source": [
        ""
      ],
      "execution_count": null,
      "outputs": []
    },
    {
      "cell_type": "code",
      "metadata": {
        "id": "UhpDJnYLr44Q"
      },
      "source": [
        ""
      ],
      "execution_count": null,
      "outputs": []
    },
    {
      "cell_type": "code",
      "metadata": {
        "id": "JmAEmzdGtRqN"
      },
      "source": [
        ""
      ],
      "execution_count": null,
      "outputs": []
    }
  ]
}